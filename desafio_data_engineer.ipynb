{
  "cells": [
    {
      "cell_type": "code",
      "execution_count": 1,
      "metadata": {
        "id": "fzjTGMj6oA2D"
      },
      "outputs": [],
      "source": [
        "# Instalando JDK\n",
        "!apt-get install openjdk-8-jdk-headless -qq > /dev/null"
      ]
    },
    {
      "cell_type": "code",
      "execution_count": 2,
      "metadata": {
        "colab": {
          "base_uri": "https://localhost:8080/"
        },
        "id": "JAYVe8ojoma6",
        "outputId": "ab7f8d1e-04ab-4aef-c15b-3ca627edf8bf"
      },
      "outputs": [
        {
          "name": "stdout",
          "output_type": "stream",
          "text": [
            "\u001b[K     |████████████████████████████████| 281.4 MB 44 kB/s \n",
            "\u001b[K     |████████████████████████████████| 199 kB 67.5 MB/s \n",
            "\u001b[?25h  Building wheel for pyspark (setup.py) ... \u001b[?25l\u001b[?25hdone\n"
          ]
        }
      ],
      "source": [
        "# Instalando Pyspark\n",
        "!pip install -q pyspark"
      ]
    },
    {
      "cell_type": "code",
      "execution_count": 3,
      "metadata": {
        "id": "tBwQKkymo5Xd"
      },
      "outputs": [],
      "source": [
        "# Setando varíavel e iniciando sessão\n",
        "\n",
        "import os\n",
        "os.environ['JAVA_HOME'] = '/usr/lib/jvm/java-8-openjdk-amd64'\n",
        "\n",
        "from pyspark.sql import SparkSession\n",
        "\n",
        "spark = SparkSession.builder.master(\"local[*]\").getOrCreate()"
      ]
    },
    {
      "cell_type": "code",
      "execution_count": 4,
      "metadata": {
        "id": "5yaacofkpYer"
      },
      "outputs": [],
      "source": [
        "transacoes = [{'transacao_id': 1, 'total_bruto': 3000, 'desconto_percentual': 6.99},\n",
        "              {'transacao_id': 2, 'total_bruto': 57989, 'desconto_percentual': 1.45},\n",
        "              {'transacao_id': 4, 'total_bruto': 1, 'desconto_percentual': None},\n",
        "              {'transacao_id': 5, 'total_bruto': 34, 'desconto_percentual': 0.0}]"
      ]
    },
    {
      "cell_type": "code",
      "execution_count": 5,
      "metadata": {
        "colab": {
          "base_uri": "https://localhost:8080/"
        },
        "id": "ZrlIIpZiqeMc",
        "outputId": "bf18e559-306d-4fba-969c-3ebc9bb67e99"
      },
      "outputs": [
        {
          "name": "stdout",
          "output_type": "stream",
          "text": [
            "+-------------------+-----------+------------+\n",
            "|desconto_percentual|total_bruto|transacao_id|\n",
            "+-------------------+-----------+------------+\n",
            "|               6.99|       3000|           1|\n",
            "|               1.45|      57989|           2|\n",
            "|               null|          1|           4|\n",
            "|                0.0|         34|           5|\n",
            "+-------------------+-----------+------------+\n",
            "\n"
          ]
        }
      ],
      "source": [
        "# Criando Dataframe das transações\n",
        "\n",
        "df = spark.createDataFrame(transacoes)\n",
        "df.show()"
      ]
    },
    {
      "cell_type": "code",
      "execution_count": 6,
      "metadata": {
        "id": "SoDdSl32r7bD"
      },
      "outputs": [],
      "source": [
        "# Alterando valores nulos da coluna desconto_percentual para 0\n",
        "\n",
        "df = df.na.fill(value=0,subset=[\"desconto_percentual\"])"
      ]
    },
    {
      "cell_type": "code",
      "execution_count": 7,
      "metadata": {
        "colab": {
          "base_uri": "https://localhost:8080/"
        },
        "id": "4VOQ3yTcsCBl",
        "outputId": "eab2588c-28da-41c9-e033-f8b56dfe4f71"
      },
      "outputs": [
        {
          "name": "stdout",
          "output_type": "stream",
          "text": [
            "+-------------------+-----------+------------+\n",
            "|desconto_percentual|total_bruto|transacao_id|\n",
            "+-------------------+-----------+------------+\n",
            "|               6.99|       3000|           1|\n",
            "|               1.45|      57989|           2|\n",
            "|                0.0|          1|           4|\n",
            "|                0.0|         34|           5|\n",
            "+-------------------+-----------+------------+\n",
            "\n"
          ]
        }
      ],
      "source": [
        "df.show()"
      ]
    },
    {
      "cell_type": "code",
      "execution_count": 8,
      "metadata": {
        "colab": {
          "base_uri": "https://localhost:8080/"
        },
        "id": "3dkI5BwgtY_w",
        "outputId": "071cf6ba-abf1-4085-80cf-7e3bf0088ae5"
      },
      "outputs": [
        {
          "name": "stdout",
          "output_type": "stream",
          "text": [
            "root\n",
            " |-- desconto_percentual: double (nullable = false)\n",
            " |-- total_bruto: long (nullable = true)\n",
            " |-- transacao_id: long (nullable = true)\n",
            "\n"
          ]
        }
      ],
      "source": [
        "# Verificando tipo de dados das colunas para efetuar os cálculos\n",
        "\n",
        "df.printSchema()"
      ]
    },
    {
      "cell_type": "code",
      "execution_count": 9,
      "metadata": {
        "id": "XFwiqmMMtmzy"
      },
      "outputs": [],
      "source": [
        "# Criando TempView para usar spark sql\n",
        "\n",
        "df.createOrReplaceTempView(\"dataframe\")"
      ]
    },
    {
      "cell_type": "code",
      "execution_count": 10,
      "metadata": {
        "id": "v73sryEVtvd8"
      },
      "outputs": [],
      "source": [
        "# Realizando cálculo da soma do total bruto menos o valor do desconto, arredondando para 2 casas decimais\n",
        "\n",
        "df2 = spark.sql(\"SELECT round(sum(total_bruto * (1 - desconto_percentual / 100 )), 2) as total from dataframe\")"
      ]
    },
    {
      "cell_type": "code",
      "execution_count": 11,
      "metadata": {
        "colab": {
          "base_uri": "https://localhost:8080/"
        },
        "id": "pX0HEonSt8NO",
        "outputId": "24262018-7ddf-4fd6-c183-bfa131a9e708"
      },
      "outputs": [
        {
          "name": "stdout",
          "output_type": "stream",
          "text": [
            "+--------+\n",
            "|   total|\n",
            "+--------+\n",
            "|59973.46|\n",
            "+--------+\n",
            "\n"
          ]
        }
      ],
      "source": [
        "df2.show()"
      ]
    },
    {
      "cell_type": "markdown",
      "metadata": {
        "id": "xRA6ps8u1o0F"
      },
      "source": [
        "O Valor total líquido da empresa é 59973.46"
      ]
    },
    {
      "cell_type": "code",
      "execution_count": 45,
      "metadata": {
        "id": "rZTLH4Cz1ZPg"
      },
      "outputs": [],
      "source": [
        "# from pyspark.sql.types import StructType\n",
        "# import json"
      ]
    },
    {
      "cell_type": "code",
      "execution_count": 12,
      "metadata": {
        "id": "bB_JjBCG22QE"
      },
      "outputs": [],
      "source": [
        "from pyspark.sql import functions as F"
      ]
    },
    {
      "cell_type": "code",
      "execution_count": 13,
      "metadata": {
        "colab": {
          "base_uri": "https://localhost:8080/"
        },
        "id": "iEcvQ2i_yLxP",
        "outputId": "abd119ce-b361-4d23-da63-9aa571975764"
      },
      "outputs": [
        {
          "name": "stdout",
          "output_type": "stream",
          "text": [
            "+--------------------+--------+-------------------+--------------------+-----+---------+\n",
            "|          CreateDate|Discount|       EmissionDate|            ItemList|NFeID|NFeNumber|\n",
            "+--------------------+--------+-------------------+--------------------+-----+---------+\n",
            "|2021-05-24T20:21:...|     0.0|2021-05-24T00:00:00|[{Rice, 2, 35.55}...|    1|      501|\n",
            "|2021-05-24T20:21:...|     0.0|2021-05-24T00:00:00|[{Tomate, 10, 12....|    2|      502|\n",
            "|2021-05-24T20:21:...|     0.0|2021-05-24T00:00:00|[{Beer, 6, 9.0}, ...|    3|      503|\n",
            "+--------------------+--------+-------------------+--------------------+-----+---------+\n",
            "\n"
          ]
        }
      ],
      "source": [
        "# Ingerindo arquivo JSON\n",
        "nf_df = spark.read.option(\"multiline\",\"true\").json('/content/data.json')\n",
        "nf_df.show()"
      ]
    },
    {
      "cell_type": "code",
      "execution_count": 15,
      "metadata": {
        "colab": {
          "base_uri": "https://localhost:8080/"
        },
        "id": "0AGcs0uO5OVy",
        "outputId": "a6258913-9314-4046-c484-0e7750c76103"
      },
      "outputs": [
        {
          "name": "stdout",
          "output_type": "stream",
          "text": [
            "+------------+--------+-----+-----+\n",
            "| ProductName|Quantity|Value|NFeID|\n",
            "+------------+--------+-----+-----+\n",
            "|        Rice|       2|35.55|    1|\n",
            "|       Flour|       5|11.55|    1|\n",
            "|        Bean|       7|27.15|    1|\n",
            "|      Tomate|      10|12.25|    2|\n",
            "|       Pasta|       5| 7.55|    2|\n",
            "|        Beer|       6|  9.0|    3|\n",
            "|French fries|       2|10.99|    3|\n",
            "|   Ice cream|       1|27.15|    3|\n",
            "+------------+--------+-----+-----+\n",
            "\n"
          ]
        }
      ],
      "source": [
        "# Criamos um dataframe para normalizar os dados, usando o campo NFeID para fazer o join com o dataframe principal\n",
        "\n",
        "df_items = nf_df.withColumn(\"Data\", F.explode(\"ItemList\")).select(\"Data.ProductName\", \"Data.Quantity\", \"Data.Value\", \"NFeID\").show()"
      ]
    },
    {
      "cell_type": "code",
      "execution_count": 19,
      "metadata": {
        "id": "e4T14Sgp6gvR"
      },
      "outputs": [],
      "source": [
        "# Criamos o dataframe principal denormalizado, para análise de forma mais fácil, evitando join's, com todas as informações da coluna expandida\n",
        "\n",
        "df_principal = (nf_df.select('*', F.explode('ItemList').alias('items'))\n",
        "         .select('CreateDate', 'Discount', 'EmissionDate', 'items.*', 'NFeID', 'NFeNumber'))"
      ]
    },
    {
      "cell_type": "code",
      "execution_count": 21,
      "metadata": {
        "colab": {
          "base_uri": "https://localhost:8080/"
        },
        "id": "hR9bs79M6ujb",
        "outputId": "6f5a813b-db10-49d4-b94c-47bcf9998231"
      },
      "outputs": [
        {
          "name": "stdout",
          "output_type": "stream",
          "text": [
            "+----------------------+--------+-------------------+------------+--------+-----+-----+---------+\n",
            "|CreateDate            |Discount|EmissionDate       |ProductName |Quantity|Value|NFeID|NFeNumber|\n",
            "+----------------------+--------+-------------------+------------+--------+-----+-----+---------+\n",
            "|2021-05-24T20:21:34.79|0.0     |2021-05-24T00:00:00|Rice        |2       |35.55|1    |501      |\n",
            "|2021-05-24T20:21:34.79|0.0     |2021-05-24T00:00:00|Flour       |5       |11.55|1    |501      |\n",
            "|2021-05-24T20:21:34.79|0.0     |2021-05-24T00:00:00|Bean        |7       |27.15|1    |501      |\n",
            "|2021-05-24T20:21:34.79|0.0     |2021-05-24T00:00:00|Tomate      |10      |12.25|2    |502      |\n",
            "|2021-05-24T20:21:34.79|0.0     |2021-05-24T00:00:00|Pasta       |5       |7.55 |2    |502      |\n",
            "|2021-05-24T20:21:34.79|0.0     |2021-05-24T00:00:00|Beer        |6       |9.0  |3    |503      |\n",
            "|2021-05-24T20:21:34.79|0.0     |2021-05-24T00:00:00|French fries|2       |10.99|3    |503      |\n",
            "|2021-05-24T20:21:34.79|0.0     |2021-05-24T00:00:00|Ice cream   |1       |27.15|3    |503      |\n",
            "+----------------------+--------+-------------------+------------+--------+-----+-----+---------+\n",
            "\n"
          ]
        }
      ],
      "source": [
        "df_principal.show(truncate=False)"
      ]
    },
    {
      "cell_type": "code",
      "execution_count": 22,
      "metadata": {
        "id": "33fLWRTb7QwH"
      },
      "outputs": [],
      "source": [
        "# Criando o dataframe normalizado, nos moldes de uma tabela fato, resguardando a chave NFeID para join com dataframe_items\n",
        "\n",
        "df_fact = (df_principal.select('CreateDate', 'Discount', 'EmissionDate', 'NFeID', 'NFeNumber'))"
      ]
    },
    {
      "cell_type": "code",
      "execution_count": 23,
      "metadata": {
        "colab": {
          "base_uri": "https://localhost:8080/"
        },
        "id": "DU9e-8ii4XQ5",
        "outputId": "9ebd1fc2-0767-4cab-d491-361628688118"
      },
      "outputs": [
        {
          "name": "stdout",
          "output_type": "stream",
          "text": [
            "+----------------------+--------+-------------------+-----+---------+\n",
            "|CreateDate            |Discount|EmissionDate       |NFeID|NFeNumber|\n",
            "+----------------------+--------+-------------------+-----+---------+\n",
            "|2021-05-24T20:21:34.79|0.0     |2021-05-24T00:00:00|1    |501      |\n",
            "|2021-05-24T20:21:34.79|0.0     |2021-05-24T00:00:00|1    |501      |\n",
            "|2021-05-24T20:21:34.79|0.0     |2021-05-24T00:00:00|1    |501      |\n",
            "|2021-05-24T20:21:34.79|0.0     |2021-05-24T00:00:00|2    |502      |\n",
            "|2021-05-24T20:21:34.79|0.0     |2021-05-24T00:00:00|2    |502      |\n",
            "|2021-05-24T20:21:34.79|0.0     |2021-05-24T00:00:00|3    |503      |\n",
            "|2021-05-24T20:21:34.79|0.0     |2021-05-24T00:00:00|3    |503      |\n",
            "|2021-05-24T20:21:34.79|0.0     |2021-05-24T00:00:00|3    |503      |\n",
            "+----------------------+--------+-------------------+-----+---------+\n",
            "\n"
          ]
        }
      ],
      "source": [
        "df_fact.show(truncate=False)"
      ]
    },
    {
      "cell_type": "code",
      "execution_count": null,
      "metadata": {
        "id": "g3iOm8L24ZZG"
      },
      "outputs": [],
      "source": []
    }
  ],
  "metadata": {
    "colab": {
      "provenance": []
    },
    "kernelspec": {
      "display_name": "Python 3",
      "language": "python",
      "name": "python3"
    },
    "language_info": {
      "name": "python",
      "version": "3.10.5 (tags/v3.10.5:f377153, Jun  6 2022, 16:14:13) [MSC v.1929 64 bit (AMD64)]"
    },
    "vscode": {
      "interpreter": {
        "hash": "c138f9f75174a582313485915c5fe3e7971498233dd9105210e9a2c09884cddb"
      }
    }
  },
  "nbformat": 4,
  "nbformat_minor": 0
}
